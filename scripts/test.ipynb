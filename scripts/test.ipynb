{
 "cells": [
  {
   "cell_type": "code",
   "execution_count": 5,
   "id": "657220ce",
   "metadata": {},
   "outputs": [
    {
     "name": "stdout",
     "output_type": "stream",
     "text": [
      "{'scores': [100, 100, 14.259760856628418], 'hashcode': '21845c0cc85a2e8e16c89bb0053f489095cf64c5b19e9c3865d3e10047aba51b'}\n",
      "{'scores': [100, 100, 21.694297790527344], 'hashcode': '21845c0cc85a2e8e16c89bb0053f489095cf64c5b19e9c3865d3e10047aba51b'}\n"
     ]
    }
   ],
   "source": [
    "import evaluate\n",
    "\n",
    "documents = [\"He wanted to make them pay.\", \"This sandwich looks delicious.\", \"He wants to eat.\"]\n",
    "simplifications = [\"He wanted to make them pay.\", \"This sandwich looks delicious.\",\n",
    "                   \"Whatever, whenever, this is a sentence.\"]\n",
    "\n",
    "meaning_bert = evaluate.load(\"davebulaval/meaningbert\")\n",
    "\n",
    "print(meaning_bert.compute(references=documents, predictions=simplifications))\n",
    "# reversed\n",
    "print(meaning_bert.compute(references=simplifications, predictions=documents))"
   ]
  },
  {
   "cell_type": "code",
   "execution_count": 6,
   "id": "340ab93a",
   "metadata": {},
   "outputs": [
    {
     "name": "stdout",
     "output_type": "stream",
     "text": [
      "{'precision': [1.0000001192092896, 0.9999998807907104, 0.7304282188415527], 'recall': [1.0000001192092896, 0.9999998807907104, 0.6958563327789307], 'f1': [1.0000001192092896, 0.9999998807907104, 0.7127233147621155], 'hashcode': 'distilbert-base-uncased_L5_no-idf_version=0.3.12(hug_trans=4.55.0)'}\n",
      "{'precision': [1.0000001192092896, 0.9999998807907104, 0.6958563327789307], 'recall': [1.0000001192092896, 0.9999998807907104, 0.7304282188415527], 'f1': [1.0000001192092896, 0.9999998807907104, 0.7127233147621155], 'hashcode': 'distilbert-base-uncased_L5_no-idf_version=0.3.12(hug_trans=4.55.0)'}\n"
     ]
    }
   ],
   "source": [
    "from evaluate import load\n",
    "bertscore = load(\"bertscore\")\n",
    "print(bertscore.compute(predictions=documents, references=simplifications, model_type=\"distilbert-base-uncased\"))\n",
    "print(bertscore.compute(predictions=simplifications, references=documents, model_type=\"distilbert-base-uncased\"))"
   ]
  },
  {
   "cell_type": "code",
   "execution_count": null,
   "id": "1a65ccf2",
   "metadata": {},
   "outputs": [],
   "source": []
  }
 ],
 "metadata": {
  "kernelspec": {
   "display_name": "Python (tsar-st)",
   "language": "python",
   "name": "tsar-st"
  },
  "language_info": {
   "codemirror_mode": {
    "name": "ipython",
    "version": 3
   },
   "file_extension": ".py",
   "mimetype": "text/x-python",
   "name": "python",
   "nbconvert_exporter": "python",
   "pygments_lexer": "ipython3",
   "version": "3.10.12"
  }
 },
 "nbformat": 4,
 "nbformat_minor": 5
}
